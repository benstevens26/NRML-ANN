{
 "cells": [
  {
   "cell_type": "markdown",
   "metadata": {},
   "source": [
    "## Full Feature Extraction Pipeline"
   ]
  },
  {
   "cell_type": "code",
   "execution_count": 1,
   "metadata": {},
   "outputs": [
    {
     "data": {
      "text/html": [
       "<style>.container { width:100% !important; }</style>"
      ],
      "text/plain": [
       "<IPython.core.display.HTML object>"
      ]
     },
     "metadata": {},
     "output_type": "display_data"
    }
   ],
   "source": [
    "# Imports\n",
    "\n",
    "import numpy as np\n",
    "import matplotlib.pyplot as plt\n",
    "import scipy as sp\n",
    "\n",
    "import os \n",
    "import sys\n",
    "\n",
    "sys.path.append(os.path.abspath('../ANN-code'))\n",
    "\n",
    "from image_preprocessing import noise_adder, gaussian_smoothing\n",
    "from data_methods import create_file_paths\n",
    "from bb_event import Event\n",
    "\n",
    "from feature_extraction import extract_sum_intensity, extract_max_intensity\n",
    "from feature_extraction import extract_axis, extract_recoil_angle\n",
    "from feature_extraction import extract_intensity_profile\n",
    "from feature_extraction import extract_length\n"
   ]
  },
  {
   "cell_type": "code",
   "execution_count": 2,
   "metadata": {},
   "outputs": [
    {
     "name": "stderr",
     "output_type": "stream",
     "text": [
      "100%|██████████| 10000/10000 [00:00<00:00, 1680679.60it/s]\n",
      "100%|██████████| 9999/9999 [00:00<00:00, 1596757.88it/s]\n"
     ]
    }
   ],
   "source": [
    "# Import the images & create file paths\n",
    "\n",
    "image_dirs = ['../ANN-code/Data/im0/C', '../ANN-code/Data/im0/F']\n",
    "\n",
    "image_paths = create_file_paths(image_dirs)\n",
    "\n",
    "# Smaller sample for this demonstration\n",
    "image_paths = image_paths[:1000]\n"
   ]
  },
  {
   "cell_type": "code",
   "execution_count": 3,
   "metadata": {},
   "outputs": [],
   "source": [
    "# Preprocessing 1 (Event instantiation)\n",
    "\n",
    "events = []\n",
    "\n",
    "for path in image_paths:\n",
    "    events.append(Event(path, np.load(path)))\n"
   ]
  },
  {
   "cell_type": "code",
   "execution_count": 4,
   "metadata": {},
   "outputs": [],
   "source": [
    "# Preprocessing 2 (Noise addition)\n",
    "\n",
    "dark_dir = \"../ANN-code/Data/darks\"\n",
    "dark_list_number = 0 # change for each directory\n",
    "m_dark = np.load(f\"{dark_dir}/master_dark_1x1.npy\")\n",
    "example_dark_list = np.load(\n",
    "    f\"{dark_dir}/quest_std_dark_{dark_list_number}.npy\"\n",
    ")\n",
    "\n",
    "for event in events:\n",
    "    event.image = noise_adder(event.image, m_dark, example_dark_list)\n"
   ]
  },
  {
   "cell_type": "code",
   "execution_count": 5,
   "metadata": {},
   "outputs": [],
   "source": [
    "# Preprocessing 3 (Smoothing)\n",
    "\n",
    "smoothing_sigma = 3.5\n",
    "\n",
    "for event in events:\n",
    "    event.image = gaussian_smoothing(event.image, smoothing_sigma)\n"
   ]
  },
  {
   "cell_type": "code",
   "execution_count": 6,
   "metadata": {},
   "outputs": [
    {
     "name": "stdout",
     "output_type": "stream",
     "text": [
      "Empty DataFrame\n",
      "Columns: [file_name, sum_intensity_camera, max_intensity_camera, recoil_angle_camera, recoil_length_camera, mean_energy_deposition_camera, std_energy_deposition_camera, skew_energy_deposition_camera, kurt_energy_deposition_camera]\n",
      "Index: []\n"
     ]
    }
   ],
   "source": [
    "# Feature Extraction\n",
    "\n",
    "import pandas as pd\n",
    "\n",
    "# Define column names\n",
    "columns = [\n",
    "    \"file_name\", \"sum_intensity_camera\", \"max_intensity_camera\", \"recoil_angle_camera\", \n",
    "    \"recoil_length_camera\", \"mean_energy_deposition_camera\", \"std_energy_deposition_camera\",\n",
    "    \"skew_energy_deposition_camera\", \"kurt_energy_deposition_camera\", \n",
    "]\n",
    "\n",
    "features_df = pd.DataFrame(columns=columns)\n",
    "\n",
    "print(features_df)"
   ]
  },
  {
   "cell_type": "code",
   "execution_count": null,
   "metadata": {},
   "outputs": [],
   "source": [
    "# basic features\n",
    "sum_intensity_camera = extract_sum_intensity(events[0].image)\n",
    "max_intensity_camera = extract_max_intensity(events[0].image)\n",
    "\n",
    "# axis features\n",
    "axis_camera, centroid_camera = extract_axis(events[0].image)\n",
    "recoil_angle_camera = extract_recoil_angle(axis_camera)\n",
    "\n",
    "# intensity profile features\n",
    "distances, intensities = extract_intensity_profile(events[0].image, principal_axis=axis_camera, centroid=centroid_camera)\n",
    "\n",
    "recoil_length_camera = extract_length(events[0].image, distances=distances, intensities=intensities)\n",
    "\n",
    "mean_energy_deposition_camera = np.mean(intensities)\n",
    "std_energy_deposition_camera = np.std(intensities)\n",
    "skew_energy_deposition_camera = sp.stats.skew(intensities)\n",
    "kurt_energy_deposition_camera = sp.stats.kurtosis(intensities)\n",
    "\n",
    "head_tail_mean_difference_camera = np.mean(intensities[:len(intensities)//2]) - np.mean(intensities[len(intensities)//2:])\n",
    "\n",
    "# numerical derivative of intensity profile\n",
    "grad = np.gradient(intensities)\n",
    "\n",
    "mean_energy_deposition_gradient_camera = np.mean(grad)"
   ]
  },
  {
   "cell_type": "markdown",
   "metadata": {},
   "source": [
    "The above features are those that will be used for LENRI Feature Set 1.0"
   ]
  },
  {
   "cell_type": "code",
   "execution_count": null,
   "metadata": {},
   "outputs": [
    {
     "ename": "SyntaxError",
     "evalue": "invalid syntax (431754728.py, line 7)",
     "output_type": "error",
     "traceback": [
      "\u001b[0;36m  Cell \u001b[0;32mIn[8], line 7\u001b[0;36m\u001b[0m\n\u001b[0;31m    \"recoil_length_camera\":\u001b[0m\n\u001b[0m                          ^\u001b[0m\n\u001b[0;31mSyntaxError\u001b[0m\u001b[0;31m:\u001b[0m invalid syntax\n"
     ]
    }
   ],
   "source": []
  }
 ],
 "metadata": {
  "kernelspec": {
   "display_name": "venv",
   "language": "python",
   "name": "python3"
  },
  "language_info": {
   "codemirror_mode": {
    "name": "ipython",
    "version": 3
   },
   "file_extension": ".py",
   "mimetype": "text/x-python",
   "name": "python",
   "nbconvert_exporter": "python",
   "pygments_lexer": "ipython3",
   "version": "3.12.7"
  }
 },
 "nbformat": 4,
 "nbformat_minor": 2
}
