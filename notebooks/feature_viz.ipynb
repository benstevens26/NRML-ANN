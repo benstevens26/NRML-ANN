{
 "cells": [
  {
   "cell_type": "markdown",
   "metadata": {},
   "source": [
    "## Feature Visualisation"
   ]
  },
  {
   "cell_type": "markdown",
   "metadata": {},
   "source": [
    "Notebook for exploratory data analysis of features"
   ]
  },
  {
   "cell_type": "markdown",
   "metadata": {},
   "source": [
    "1. Import Features"
   ]
  },
  {
   "cell_type": "code",
   "execution_count": null,
   "metadata": {},
   "outputs": [],
   "source": [
    "import pandas as pd\n",
    "import matplotlib.pyplot as plt\n",
    "import numpy as np\n",
    "\n",
    "# Load the CSV file into a DataFrame\n",
    "df = pd.read_csv(\"../ANN-code/Data/features_CF4.csv\")\n",
    "\n",
    "# Get columns\n",
    "columns = df.columns\n",
    "print(columns)\n",
    "\n",
    "# Split the data into two DataFrames based on 'file_name' containing 'C' or 'F'\n",
    "df_C = df[df['file_name'].str.contains('_C_')]\n",
    "df_F = df[df['file_name'].str.contains('_F_')]\n"
   ]
  },
  {
   "cell_type": "markdown",
   "metadata": {},
   "source": [
    "2. Summary of Feature Statistics"
   ]
  },
  {
   "cell_type": "code",
   "execution_count": 15,
   "metadata": {},
   "outputs": [
    {
     "name": "stdout",
     "output_type": "stream",
     "text": [
      "       sum_intensity_camera  max_intensity_camera  recoil_angle_camera  \\\n",
      "count          4.943500e+04          49435.000000         49435.000000   \n",
      "mean           9.682365e+05            205.732326            39.460053   \n",
      "std            8.566012e+05            116.269976            26.070360   \n",
      "min           -1.173734e+03              1.275964             0.000923   \n",
      "25%            1.682607e+05            116.656229            16.344499   \n",
      "50%            6.885972e+05            211.734406            36.208226   \n",
      "75%            1.807235e+06            300.016063            61.271529   \n",
      "max            2.889941e+06           1539.798698            89.997044   \n",
      "\n",
      "       recoil_length_camera  mean_energy_deposition_camera  \\\n",
      "count          49435.000000                   49435.000000   \n",
      "mean             142.481852                      90.069323   \n",
      "std               85.177348                      58.434371   \n",
      "min               29.042493                      -1.410669   \n",
      "25%               73.386973                      38.991636   \n",
      "50%              108.000000                      90.088707   \n",
      "75%              203.166432                     136.655604   \n",
      "max              423.036145                     437.328497   \n",
      "\n",
      "       std_energy_deposition_camera  skew_energy_deposition_camera  \\\n",
      "count                  49435.000000                   49435.000000   \n",
      "mean                      65.655706                       0.233956   \n",
      "std                       34.268305                       0.486271   \n",
      "min                        0.057999                      -2.060034   \n",
      "25%                       42.520655                      -0.150410   \n",
      "50%                       71.064753                       0.147721   \n",
      "75%                       90.514438                       0.651622   \n",
      "max                      500.014695                       2.181598   \n",
      "\n",
      "       kurt_energy_deposition_camera  head_tail_mean_difference_camera  \n",
      "count                   49435.000000                      49435.000000  \n",
      "mean                       -1.068821                         29.901527  \n",
      "std                         0.443782                         47.858393  \n",
      "min                        -1.862803                       -302.069902  \n",
      "25%                        -1.408807                         -0.526137  \n",
      "50%                        -1.079175                         19.168224  \n",
      "75%                        -0.818098                         66.583497  \n",
      "max                         4.000757                        415.745941  \n",
      "       sum_intensity_camera  max_intensity_camera  recoil_angle_camera  \\\n",
      "count          4.979800e+04          49798.000000         49798.000000   \n",
      "mean           3.966783e+05            137.072439            41.758892   \n",
      "std            4.277192e+05             91.131123            25.744301   \n",
      "min           -2.057497e+03              0.655180             0.002942   \n",
      "25%            5.042276e+04             53.945761            19.265015   \n",
      "50%            2.183285e+05            140.047505            40.236960   \n",
      "75%            6.406640e+05            207.521371            63.251966   \n",
      "max            1.793841e+06            756.401685            89.999313   \n",
      "\n",
      "       recoil_length_camera  mean_energy_deposition_camera  \\\n",
      "count          49798.000000                   49798.000000   \n",
      "mean              94.280332                      54.935052   \n",
      "std               43.191579                      43.508198   \n",
      "min               23.601476                      -1.009645   \n",
      "25%               64.249765                      15.140451   \n",
      "50%               79.227694                      47.439638   \n",
      "75%              110.400000                      88.553325   \n",
      "max              293.523810                     275.807890   \n",
      "\n",
      "       std_energy_deposition_camera  skew_energy_deposition_camera  \\\n",
      "count                  49798.000000                   49798.000000   \n",
      "mean                      47.805153                       0.423816   \n",
      "std                       31.107424                       0.524187   \n",
      "min                        0.013622                      -1.884756   \n",
      "25%                       18.527241                      -0.012903   \n",
      "50%                       51.142533                       0.550309   \n",
      "75%                       72.131228                       0.849287   \n",
      "max                      257.072161                       2.191611   \n",
      "\n",
      "       kurt_energy_deposition_camera  head_tail_mean_difference_camera  \n",
      "count                   49798.000000                      49798.000000  \n",
      "mean                       -1.055028                          8.864116  \n",
      "std                         0.498769                         23.112984  \n",
      "min                        -1.916667                       -126.124766  \n",
      "25%                        -1.454076                         -2.378383  \n",
      "50%                        -1.104843                          2.443557  \n",
      "75%                        -0.748558                         19.940237  \n",
      "max                         4.616786                        153.574373  \n"
     ]
    }
   ],
   "source": [
    "# use .describe() to get the statistics of the data\n",
    "print(df_C.describe())\n",
    "print(df_F.describe())"
   ]
  },
  {
   "cell_type": "code",
   "execution_count": null,
   "metadata": {},
   "outputs": [],
   "source": [
    "# Check for missing values or NaN values\n",
    "print(df_C.isnull().sum())"
   ]
  },
  {
   "cell_type": "code",
   "execution_count": 14,
   "metadata": {},
   "outputs": [],
   "source": [
    "# outliers\n",
    "from scipy.stats import zscore\n",
    "\n",
    "# Calculate Z-scores for the numerical columns\n",
    "z_scores = np.abs(zscore(df.select_dtypes(include=[np.number])))\n",
    "\n",
    "# Set a threshold for identifying outliers\n",
    "threshold = 5\n",
    "\n",
    "# Identify rows with outliers\n",
    "outliers = np.where(z_scores > threshold)\n",
    "\n"
   ]
  }
 ],
 "metadata": {
  "kernelspec": {
   "display_name": "venv",
   "language": "python",
   "name": "python3"
  },
  "language_info": {
   "codemirror_mode": {
    "name": "ipython",
    "version": 3
   },
   "file_extension": ".py",
   "mimetype": "text/x-python",
   "name": "python",
   "nbconvert_exporter": "python",
   "pygments_lexer": "ipython3",
   "version": "3.12.7"
  }
 },
 "nbformat": 4,
 "nbformat_minor": 2
}
