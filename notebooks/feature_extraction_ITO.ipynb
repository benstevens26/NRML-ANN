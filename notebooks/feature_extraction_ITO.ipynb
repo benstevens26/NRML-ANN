{
 "cells": [
  {
   "cell_type": "markdown",
   "metadata": {},
   "source": [
    "# ITO FEATURE EXTRACTION"
   ]
  },
  {
   "cell_type": "markdown",
   "metadata": {},
   "source": [
    "METHOD 1: BRUTE FORCE\n",
    "\n",
    "1. sum_intensity_ito\n",
    "2. max_intensity_ito\n",
    "3. recoil_angle_ito\n",
    "4. recoil_length_ito\n",
    "5. mean_energy_deposition_ito\n",
    "6. std_energy_deposition_ito\n",
    "7. skew_energy_deposition_ito\n",
    "8. kurt_energy_deposition_ito\n",
    "9. head_tail_mean_difference_ito"
   ]
  },
  {
   "cell_type": "markdown",
   "metadata": {},
   "source": [
    "## ITO image import"
   ]
  },
  {
   "cell_type": "code",
   "execution_count": null,
   "metadata": {},
   "outputs": [],
   "source": [
    "# import \"ANN-Code/Data/ito_npy0\" files\n",
    "\n",
    "import numpy as np\n",
    "import matplotlib.pyplot as plt\n",
    "\n",
    "# base directories\n",
    "ito_dirs = \n",
    "\n"
   ]
  },
  {
   "cell_type": "markdown",
   "metadata": {},
   "source": [
    "1. sum_intensity_ito"
   ]
  },
  {
   "cell_type": "code",
   "execution_count": null,
   "metadata": {},
   "outputs": [],
   "source": [
    "# sum_intensity_ito\n"
   ]
  }
 ],
 "metadata": {
  "kernelspec": {
   "display_name": "venv",
   "language": "python",
   "name": "python3"
  },
  "language_info": {
   "name": "python",
   "version": "3.12.7"
  }
 },
 "nbformat": 4,
 "nbformat_minor": 2
}
